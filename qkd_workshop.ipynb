{
 "cells": [
  {
   "cell_type": "markdown",
   "id": "9dabf7b9",
   "metadata": {},
   "source": [
    "<table width=\"100%\"><tr><td style=\"color:#bbbbbb;background-color:#ffffff;font-size:11px;font-style:italic;text-align:right;\">LaTeX macros. Do not delete!</td></tr></table>\n",
    "$ \\newcommand{\\bra}[1]{\\langle #1|} $\n",
    "$ \\newcommand{\\ket}[1]{|#1\\rangle} $\n",
    "$ \\newcommand{\\braket}[2]{\\langle #1|#2\\rangle} $\n",
    "$ \\newcommand{\\mymatrix}[2]{\\left( \\begin{array}{#1} #2\\end{array} \\right)} $"
   ]
  },
  {
   "cell_type": "markdown",
   "id": "67deab92",
   "metadata": {},
   "source": [
    "![Constantine Quantum Technologies for QFF24-Sétif](imgs/qff22_cqtech_banner.png)"
   ]
  },
  {
   "cell_type": "markdown",
   "id": "f06fe989",
   "metadata": {},
   "source": [
    "# Quantum Key Distribution Workshop | Qiskit summer Fest 2024, Sétif"
   ]
  },
  {
   "cell_type": "markdown",
   "id": "8fe381b7",
   "metadata": {},
   "source": [
    "## 1. Introduction to Quantum Key Distribution, BB84"
   ]
  },
  {
   "cell_type": "markdown",
   "id": "95d5679a",
   "metadata": {},
   "source": [
    "Nowadays, nearly everyone is using some form of encryption to store, send, or receive data. If you own a phone, there's a high chance that you have set a password to prevent unauthorized persons from accessing your private files and messages. These messages are themeselves sometimes encrypted when you hit the send button, and decrypted when they get to your contact's phone.<br>\n",
    "But to ensure that you and your contact can properly carry out this operation, you must share some sort of secret key that allows you to communicate in a secure way. Therefor, you must at some point share this key through some communication channel. Do you see the issue here? If someone were to listen to that channel when you were sharing that key, they would be able to decrypt all of your transmissions!\n",
    "\n",
    "Quantum Key Distribution (QKD) aims at providing a way that makes it impossible for a third person, which we will call *Eve*, to gain knowledge about your key without alerting the two communicating persons, *Alice* and *Bob*.\n",
    "\n",
    "Two properties of quantum states, as opposed to classical states, will be useful to achieve this purpose: the wave function collapse at the measurement, and the no-cloning theorem."
   ]
  },
  {
   "cell_type": "markdown",
   "id": "9f7cf8ee",
   "metadata": {},
   "source": [
    "#### Wave function collapse\n",
    "In the case of quantum binary information, qubits can exist in a superposition of two fundamental states. This is unlike the classical bits which can either be in the states $0$ or $1$.<br>\n",
    "\n",
    "The general state of a qubit is written as\n",
    "\n",
    "$$\\ket{q} = \\alpha\\ket{0} + \\beta\\ket{1},$$\n",
    "\n",
    "where $\\ket{q}$ is said to be in a superposition of the states $0$ and $1$. However, if we observe or measure this qubit, then we will only be able to see it in one of the states, with probabilities $|\\alpha|^2$ and $|\\beta|^2$ respectively.\n",
    "\n",
    "Most importantly, after we observe it to be in either of these states, $\\ket{q}$ will then no longer be in a superposition state but will *collapse* to the observed state. That is, if we observe it to be $0$, then $\\ket{q} = \\ket{0}$, and if we observe $1$, then $\\ket{q} = \\ket{1}$. The state $\\ket{q}$ is not in a superposition anymore.\n",
    "\n",
    "Therefor, if Alice sends a quantum message to Bob, and Eve measures it before it gets to him, Bob **will not** get the original message sent by Alice! He will get a version where all of the qubits of the message are collapsed into $\\ket{0}$ or $\\ket{1}$."
   ]
  },
  {
   "cell_type": "markdown",
   "id": "6152f885",
   "metadata": {},
   "source": [
    "#### No-clone theorem\n",
    "Without getting into details that are outside the scope of this workshop, quantum mechanics tells us that unlike a classical state, quantum states **cannot** be copied. You cannot take a qubit and make a copy of it, as this will violate the laws of physics.\n",
    "\n",
    "Although the justification of such a theorem is of little use to us, one of its consequences is essential to QKD: if we were to send a key not as a classical bitstring but as a quantum message, a third person will never be able to make a copy of it!"
   ]
  },
  {
   "cell_type": "markdown",
   "id": "10d99ebf",
   "metadata": {},
   "source": [
    "### The BB84 QKD Protocol\n",
    "Proposed by Charles Bennett and Gilles Brassard in 1984, thus the name BB84, the BB84 protocol is a scheme that Alice and Bob can use to safely share a key using the two properties of quantum mechanics described above. This protocol makes it impossible for Eve to intercept the key without alerting Alice and Bob.<br>\n",
    "The protocol is achieved by follow a series of simple steps:\n",
    "\n",
    "1. Alice generates a random bitstring (zeros and ones) and converts it to a series of qubits correspondingly. The zeros and ones can either be encoded as $\\ket{0}$ and $\\ket{1}$, or the superposition states $\\ket{+}$ and $\\ket{-}$. In the first case Alice has chosen the **z-basis**, and in the second choice she has chosen the **x-basis**, where $\\ket{+}$ is a $0$ and $\\ket{-}$ is a $1$. For each bit, she chooses a basis randomly. She then sends everything to Bob.\n",
    "1. Bob measures the received message, measuring each qubit in a random basis (x or z).\n",
    "1. Alice and Bob then make their choice of bases public. They will keep each bit where they used the same basis, and discard the rest. The final bitstring they end up with is the key.\n",
    "1. To make sure that no problems occured during the protocol, Alice and Bob will each reveal a random small sample of predetermined bits from their keys and compare the two versions. If the process was successful, the samples will be the same, otherwise, there will be some differences."
   ]
  },
  {
   "cell_type": "markdown",
   "id": "76711bdc",
   "metadata": {},
   "source": [
    "## 2. Implementation of BB84"
   ]
  },
  {
   "cell_type": "markdown",
   "id": "3e2d1c37",
   "metadata": {},
   "source": [
    "*(The following codes were taken and modified from [Qiskit's tutorials](https://qiskit.org/textbook/ch-algorithms/quantum-key-distribution.html))*\n",
    "\n",
    "We first start by importing the relevent libraries and functions."
   ]
  },
  {
   "cell_type": "code",
   "execution_count": 10,
   "id": "b9470cc2",
   "metadata": {},
   "outputs": [],
   "source": [
    "from qiskit import QuantumCircuit, Aer, transpile, assemble\n",
    "from qiskit.visualization import plot_histogram, plot_bloch_multivector\n",
    "from numpy.random import randint\n",
    "import numpy as np"
   ]
  },
  {
   "cell_type": "markdown",
   "id": "85fa73f4",
   "metadata": {},
   "source": [
    "### Step 1\n",
    "\n",
    "In the first step of BB84, Alice sends a series of quantum states to Bob. She chooses a random list of bits, and a random set of bases, and then encodes each bit in its corresponding basis:\n",
    "\n",
    "**The Z-Basis:** where 0 is encoded as $\\ket{0}$ and 1 is encoded as $\\ket{1}$.<br>\n",
    "**The X-Basis:** where 0 is encoded as $\\frac{1}{\\sqrt{2}}(\\ket{0}+\\ket{1})$ and 1 is encoded as $\\frac{1}{\\sqrt{2}}(\\ket{0}-\\ket{1})$.\n",
    "\n",
    "Recall that the operation that transforms the Z-Basis to the X-Basis and vice versa is the Hadamard gate:\n",
    "\n",
    "$$H\\ket{0}=\\ket{+}=\\frac{1}{\\sqrt{2}}(\\ket{0}+\\ket{1})$$\n",
    "$$H\\ket{1}=\\ket{-}=\\frac{1}{\\sqrt{2}}(\\ket{0}-\\ket{1})$$\n",
    "and\n",
    "$$H\\ket{+}=H\\frac{1}{\\sqrt{2}}(\\ket{0}+\\ket{1})=\\ket{0}$$\n",
    "$$H\\ket{-}= H\\frac{1}{\\sqrt{2}}(\\ket{0}-\\ket{1})=\\ket{1}$$\n",
    "\n",
    "So we define a function *encode_message(bits, bases)*, where *bits* and *bases* are bitstrings, which does just that:<br>\n",
    "- For each bit in the list *bits*, we start with a quantum circuit containing a single state $\\ket{0}$, which is the default initial state.\n",
    "- If the bit is $1$, we change that state to $\\ket{1}$ by applying a NOT gate.\n",
    "- Then we look at its corresponding basis; if it's $0$ (Z-basis), we keep the previous state, if it's $1$ (X-basis), we apply a Hadamard gate on the state and get the resulting state $\\ket{+}$ or $\\ket{-}$.\n",
    "\n",
    "At the end, we end up with a random message of 0s and 1s, encoded randomly in the Z or X bases:\n",
    "\n",
    "$$Bits =  [0, 0, 1, 0, 1, 1, 1, 0, ...]$$\n",
    "$$Bases =  [Z, X, X, Z, Z, Z, X, X, ...]$$\n",
    "\n",
    "So the message will look like this:\n",
    "$$M = [\\ket{0}, \\ket{+}, \\ket{-}, \\ket{0}, \\ket{1}, \\ket{1}, \\ket{-}, \\ket{+}, ...]$$\n",
    "\n",
    "Alice then sends this *quantum message* to Bob, most probably using photons, where each photon encodes a quantum state.\n",
    "\n",
    "In the cell bellow, we implement such a function."
   ]
  },
  {
   "cell_type": "code",
   "execution_count": 11,
   "id": "e7d6de7d",
   "metadata": {},
   "outputs": [],
   "source": [
    "def encode_message(bits, bases):\n",
    "    message = []\n",
    "    for i in range(n):\n",
    "        qc = QuantumCircuit(1,1)\n",
    "        if bases[i] == 0: # Prepare qubit in Z-basis\n",
    "            if bits[i] == 0:\n",
    "                pass \n",
    "            else:\n",
    "                qc.x(0)\n",
    "        else: # Prepare qubit in X-basis\n",
    "            if bits[i] == 0:\n",
    "                qc.h(0)\n",
    "            else:\n",
    "                qc.x(0)\n",
    "                qc.h(0)\n",
    "        message.append(qc)\n",
    "    return message"
   ]
  },
  {
   "cell_type": "markdown",
   "id": "dc18cea8",
   "metadata": {},
   "source": [
    "### Step 2\n",
    "\n",
    "In the second step, Bob measures the quantum message he received form Alice, using a random set of bases of his own.<br>\n",
    "So he starts by choosing his bases, then applies the basis transformations where needed (Hadamard gates), and measures the received qubits.\n",
    "\n",
    "For example, if Bob receives the message\n",
    "\n",
    "$$M = [\\ket{0}, \\ket{+}, \\ket{-}, \\ket{0}, \\ket{1}, \\ket{1}, \\ket{-}, \\ket{+}, ...]$$\n",
    "\n",
    "And chooses the bases\n",
    "\n",
    "$$Bases =  [Z, Z, X, X, Z, Z, Z, X, ...]$$\n",
    "\n",
    "Then his measurements will yield\n",
    "\n",
    "$$Bits =  [0, 0/1, 1, 0/1, 1, 1, 0/1, 0, ...]$$\n",
    "\n",
    "The following function implements this process, which can be thought of as the reverse process that Alice perfoms in step 1, but with different bases."
   ]
  },
  {
   "cell_type": "code",
   "execution_count": 12,
   "id": "8743bdb4",
   "metadata": {},
   "outputs": [],
   "source": [
    "def measure_message(message, bases):\n",
    "    measurements = []\n",
    "    \n",
    "    for q in range(n):\n",
    "        if bases[q] == 0: # measuring in Z-basis\n",
    "            message[q].measure(0,0)\n",
    "        if bases[q] == 1: # measuring in X-basis\n",
    "            message[q].h(0)\n",
    "            message[q].measure(0,0)\n",
    "        \n",
    "        # This part is a Qiskit technicality, don't worry about it.    \n",
    "        aer_sim = Aer.get_backend('aer_simulator')\n",
    "        qobj = assemble(message[q], shots=1, memory=True)\n",
    "        result = aer_sim.run(qobj).result()\n",
    "        \n",
    "        measured_bit = int(result.get_memory()[0])\n",
    "        measurements.append(measured_bit)\n",
    "    return measurements"
   ]
  },
  {
   "cell_type": "markdown",
   "id": "04038302",
   "metadata": {},
   "source": [
    "### Step 3\n",
    "\n",
    "After Bob makes his measurements, he and Alice make their bases public. After which, they will both keep the bits where they used the same bases, and discard the rest.\n",
    "\n",
    "In the previous steps, the bases used were\n",
    "\n",
    "$$Bases_{Alice} =  [Z, X, X, Z, Z, Z, X, X, ...]$$\n",
    "$$Bases_{Bob}   =  [Z, Z, X, X, Z, Z, Z, X, ...]$$\n",
    "\n",
    "So they will discard their second, fourth, seventh bits, and so on.\n",
    "\n",
    "Therefor, the remaining bits are ensured to be exactly the same for both Alice and Bob **IF** the message sent by Alice has not been meddled with.\n",
    "\n",
    "$$Bits_{final}   =  [0, 1, 1, 1, 0, ...]$$\n",
    "\n",
    "The implementation is straightforward."
   ]
  },
  {
   "cell_type": "code",
   "execution_count": 13,
   "id": "06e2fca7",
   "metadata": {},
   "outputs": [],
   "source": [
    "def remove_garbage(a_bases, b_bases, bits):\n",
    "    good_bits = []\n",
    "    for q in range(n):\n",
    "        if a_bases[q] == b_bases[q]:\n",
    "            # If both used the same basis, add\n",
    "            # this to the list of 'good' bits\n",
    "            good_bits.append(bits[q])\n",
    "    return good_bits"
   ]
  },
  {
   "cell_type": "markdown",
   "id": "689435a0",
   "metadata": {},
   "source": [
    " ### Step 4\n",
    " \n",
    "To make sure that both Alice and Bob have the same bits/key, they compare a random sample of their bits. If everything went well, their samples will be the same. If something went wrong in the previous steps, the samples will be different and they will discrad the generated key.<br>\n",
    "An example of something going wrong is an eavesdropper, called Eve, measuring the quantum message before it reaches Bob. This will have the effect of collapsing all the quantum states to either $\\ket{0}$ or $\\ket{1}$, rendering the message received by Bob **different** from the one sent by Alice.\n",
    "\n",
    "Here, we only implement the sampling function."
   ]
  },
  {
   "cell_type": "code",
   "execution_count": 14,
   "id": "e2d71163",
   "metadata": {},
   "outputs": [],
   "source": [
    "def sample_bits(bits, selection):\n",
    "    sample = []\n",
    "    for i in selection:\n",
    "        # use np.mod to make sure the\n",
    "        # bit we sample is always in \n",
    "        # the list range\n",
    "        i = np.mod(i, len(bits))\n",
    "        # pop(i) removes the element of the\n",
    "        # list at index 'i'\n",
    "        sample.append(bits.pop(i))\n",
    "    return sample"
   ]
  },
  {
   "cell_type": "markdown",
   "id": "8cd48421",
   "metadata": {},
   "source": [
    "### BB84 without interception: full code\n",
    "\n",
    "Having described and implemented the steps for BB84, we can now write the complete code for the protocol.\n",
    "\n",
    "In the following code, we showcase the ideal scenario where everything goes as planned. At the end, we compare the samples generated by Alice and Bob observe that no error occured."
   ]
  },
  {
   "cell_type": "code",
   "execution_count": 21,
   "id": "74b3b98a",
   "metadata": {},
   "outputs": [
    {
     "name": "stdout",
     "output_type": "stream",
     "text": [
      "  bob_sample = [0, 1, 1, 1, 1, 0, 1, 0, 1, 0, 1, 1, 0, 1, 1]\n",
      "alice_sample = [0, 1, 1, 1, 1, 0, 1, 0, 1, 0, 1, 1, 0, 1, 1]\n",
      "      errors = [0, 0, 0, 0, 0, 0, 0, 0, 0, 0, 0, 0, 0, 0, 0]\n",
      "-----------\n",
      "  bob_key = [0, 1, 1, 0, 0, 0, 1, 0, 0, 1, 1, 0, 0, 1, 0, 1, 1, 0, 0, 0, 1, 0, 0, 1, 1, 0, 0, 1, 0, 0, 1, 1]\n",
      "alice_key = [0, 1, 1, 0, 0, 0, 1, 0, 0, 1, 1, 0, 0, 1, 0, 1, 1, 0, 0, 0, 1, 0, 0, 1, 1, 0, 0, 1, 0, 0, 1, 1]\n"
     ]
    }
   ],
   "source": [
    "np.random.seed(seed=3)  # We use a known seed for RNG to make the results reproducible.\n",
    "n = 100\n",
    "\n",
    "## Step 1: Alice generates random bits.\n",
    "alice_bits = randint(2, size=n)\n",
    "## Step 2: Alice chooses a series of random bases: one for each bit.\n",
    "alice_bases = randint(2, size=n)\n",
    "\n",
    "## Step 3: Alice then sends a quantum message with her bits encoded in her random bases.\n",
    "message = encode_message(alice_bits, alice_bases)\n",
    "\n",
    "## Step 4: Bob chooses random bases of his own.\n",
    "bob_bases = randint(2, size=n)\n",
    "## Step 5: Bob then measures Alice's message in his own bases.\n",
    "bob_results = measure_message(message, bob_bases)\n",
    "\n",
    "## Step 6: Alice and Bob make their bases public, compare them, and only keep\n",
    "#          the measurements where they used the same bases.\n",
    "bob_key = remove_garbage(alice_bases, bob_bases, bob_results)\n",
    "alice_key = remove_garbage(alice_bases, bob_bases, alice_bits)\n",
    "\n",
    "\n",
    "## Step 5\n",
    "sample_size = 15\n",
    "bit_selection = randint(n, size=sample_size)\n",
    "\n",
    "bob_sample = sample_bits(bob_key, bit_selection)\n",
    "print(\"  bob_sample = \" + str(bob_sample))\n",
    "alice_sample = sample_bits(alice_key, bit_selection)\n",
    "print(\"alice_sample = \"+ str(alice_sample))\n",
    "\n",
    "diff_sample = [0 if a == b else 1 for a, b in zip(alice_sample, bob_sample)]\n",
    "print(\"      errors = \"+ str(diff_sample))\n",
    "\n",
    "print(\"-----------\")\n",
    "print(\"  bob_key = \" + str(bob_key))\n",
    "print(\"alice_key = \"+ str(alice_key))\n"
   ]
  },
  {
   "cell_type": "markdown",
   "id": "01a6ea41",
   "metadata": {},
   "source": [
    "### BB84 with interception: full code \n",
    "\n",
    "Now let's consider the case where Eve intercepts the message sent by Alice and tries to measure it. This is simulated between steps 3 and 4, where Eve measures the quantum message in a random set of bases.\n",
    "\n",
    "The rest of the code is exactly the same. However, when Alice and Bob compare their samples, they will find multiple differences! This will alert them of Eve's interception."
   ]
  },
  {
   "cell_type": "code",
   "execution_count": 22,
   "id": "d80d16ce",
   "metadata": {
    "scrolled": true
   },
   "outputs": [
    {
     "name": "stdout",
     "output_type": "stream",
     "text": [
      "  bob_sample = [1, 1, 0, 0, 0, 1, 0, 1, 0, 0, 0, 1, 1, 1, 1]\n",
      "alice_sample = [1, 1, 0, 0, 1, 0, 0, 0, 0, 0, 0, 1, 0, 0, 0]\n",
      "      errors = [0, 0, 0, 0, 1, 1, 0, 1, 0, 0, 0, 0, 1, 1, 1]\n"
     ]
    }
   ],
   "source": [
    "np.random.seed(seed=3)  # We use a known seed for RNG to make the results reproducible.\n",
    "n = 100\n",
    "\n",
    "## Step 1: Alice generates random bits.\n",
    "alice_bits = randint(2, size=n)\n",
    "## Step 2: Alice chooses a series of random bases: one for each bit.\n",
    "alice_bases = randint(2, size=n)\n",
    "\n",
    "## Step 3: Alice then sends a quantum message with her bits encoded in her random bases.\n",
    "message = encode_message(alice_bits, alice_bases)\n",
    "\n",
    "## Interception\n",
    "eve_bases = randint(2, size=n)\n",
    "eve_results = measure_message(message, eve_bases)\n",
    "\n",
    "## Step 4: Bob chooses random bases of his own.\n",
    "bob_bases = randint(2, size=n)\n",
    "## Step 5: Bob then measures Alice's message in his own bases.\n",
    "bob_results = measure_message(message, bob_bases)\n",
    "\n",
    "## Step 6: Alice and Bob make their bases public, compare them, and only keep\n",
    "#          the measurements where they used the same bases.\n",
    "bob_key = remove_garbage(alice_bases, bob_bases, bob_results)\n",
    "alice_key = remove_garbage(alice_bases, bob_bases, alice_bits)\n",
    "\n",
    "\n",
    "## Step 5\n",
    "sample_size = 15\n",
    "bit_selection = randint(n, size=sample_size)\n",
    "bob_sample = sample_bits(bob_key, bit_selection)\n",
    "print(\"  bob_sample = \" + str(bob_sample))\n",
    "alice_sample = sample_bits(alice_key, bit_selection)\n",
    "print(\"alice_sample = \"+ str(alice_sample))\n",
    "\n",
    "diff_sample = [0 if a == b else 1 for a, b in zip(alice_sample, bob_sample)]\n",
    "print(\"      errors = \"+ str(diff_sample))"
   ]
  },
  {
   "cell_type": "markdown",
   "id": "c01f362c",
   "metadata": {},
   "source": [
    "## 3. BB84 in real life"
   ]
  },
  {
   "cell_type": "markdown",
   "id": "54477f4f",
   "metadata": {},
   "source": [
    "Although this QKD protocol seems perfect at first glance, as with many theoretical concepts, the real world implementation has its problems.\n",
    "\n",
    "One of the issues with realizing this protocol in real life is that Alice will most likely send Bob multiple photons/qubits for each bit. This is because it is hard to physically create a single photon with 100% reliability.<br>\n",
    "Such a weakness can be exploited by Eve to obtain information on the shared key ***without*** the knowledge of Alice and Bob. She can achieve this by measuring the additional qubits sent by Alice, which does not affect Bob's measurements.\n",
    "\n",
    "This method that Eve can use is called the photon-number splitting attack, or PNS attack for short."
   ]
  },
  {
   "cell_type": "markdown",
   "id": "d69b3568",
   "metadata": {},
   "source": [
    "## 4. Solving the PNS attack issue: BBM92 protocol"
   ]
  },
  {
   "cell_type": "markdown",
   "id": "4bb4684c",
   "metadata": {},
   "source": [
    "To solve this issue with BB84, we can use a very similar protocol called BBM92. This protocol works in exactly the same way, except for steps 1 and 2."
   ]
  },
  {
   "cell_type": "markdown",
   "id": "fffad1a9",
   "metadata": {},
   "source": [
    " ### Step 1"
   ]
  },
  {
   "cell_type": "markdown",
   "id": "1dd62a07",
   "metadata": {},
   "source": [
    "Instead of Alice sending Bob a quantum message, both of them will receive one photon/qubit of an entangled pair.<br>\n",
    "As you know, when qubits are entangled, we can no longer describe them individually, and we will have to describe both qubits with a single 2-qubit state as follows:\n",
    "\n",
    "$$\\ket{q_A, q_B} = \\frac{1}{\\sqrt{2}}(\\ket{00}+\\ket{11})$$\n",
    "\n",
    "This state will always be measured by Alice and Bob individually to be either $\\ket{0}$ or $\\ket{1}$ with 50% chance. But it has a particularity: even though the outcome is random, Alice and Bob will always have the exact same measurement outcome, i.e., if Alice measures $\\ket{0}$ in the Z-basis, Bob will certainly measure $\\ket{0}$ in the Z-basis! And the same goes for $\\ket{1}$, $\\ket{+}$ and $\\ket{-}$."
   ]
  },
  {
   "cell_type": "markdown",
   "id": "86b05528",
   "metadata": {},
   "source": [
    "### Step 2"
   ]
  },
  {
   "cell_type": "markdown",
   "id": "d9ce592e",
   "metadata": {},
   "source": [
    "The difference here is minor: where only Bob was doing the measurement in BB84, both Alice and Bob will need to measure their received qubits. They still however will use different random bases.\n",
    "\n",
    "The rest of the protocol is exactly the same as BB84."
   ]
  },
  {
   "cell_type": "markdown",
   "id": "66b30b66",
   "metadata": {},
   "source": [
    " "
   ]
  }
 ],
 "metadata": {
  "kernelspec": {
   "display_name": "Python 3 (ipykernel)",
   "language": "python",
   "name": "python3"
  },
  "language_info": {
   "codemirror_mode": {
    "name": "ipython",
    "version": 3
   },
   "file_extension": ".py",
   "mimetype": "text/x-python",
   "name": "python",
   "nbconvert_exporter": "python",
   "pygments_lexer": "ipython3",
   "version": "3.8.13"
  }
 },
 "nbformat": 4,
 "nbformat_minor": 5
}
